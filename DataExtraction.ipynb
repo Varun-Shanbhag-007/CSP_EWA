{
 "cells": [
  {
   "cell_type": "code",
   "execution_count": 25,
   "metadata": {},
   "outputs": [],
   "source": [
    "import numpy as np\n",
    "from collections import OrderedDict\n",
    "from operator import itemgetter\n",
    "import json"
   ]
  },
  {
   "cell_type": "code",
   "execution_count": 26,
   "metadata": {},
   "outputs": [],
   "source": [
    "productMap = {}\n",
    "fiveStar = {}\n",
    "oneStar = {}\n",
    "file = open(\"json/Digital_Music_5.json\", \"r\", encoding=\"utf8\")"
   ]
  },
  {
   "cell_type": "code",
   "execution_count": 27,
   "metadata": {},
   "outputs": [],
   "source": [
    "items = []\n",
    "for x in file:\n",
    "    line_dict = json.loads(x)\n",
    "    #items.append(line_dict['asin'])\n",
    "    items.append(line_dict['asin'])\n",
    "    if int(line_dict['overall']) >= 3:\n",
    "        if (line_dict['asin'] in fiveStar):\n",
    "            fiveStar[line_dict['asin']] += 1\n",
    "        else:\n",
    "            fiveStar[line_dict['asin']] = 1\n",
    "\n",
    "    else:\n",
    "        if (line_dict['asin'] in oneStar):\n",
    "            oneStar[line_dict['asin']] += 1\n",
    "        else:\n",
    "            oneStar[line_dict['asin']] = 1"
   ]
  },
  {
   "cell_type": "code",
   "execution_count": 28,
   "metadata": {},
   "outputs": [
    {
     "name": "stdout",
     "output_type": "stream",
     "text": [
      "Unique products in the file are : 3568\n"
     ]
    }
   ],
   "source": [
    "items_unq = np.array(items)\n",
    "print(\"Unique products in the file are :\",np.unique(items_unq).size)"
   ]
  },
  {
   "cell_type": "code",
   "execution_count": 30,
   "metadata": {},
   "outputs": [
    {
     "name": "stdout",
     "output_type": "stream",
     "text": [
      "B0007NFL18\n",
      "5 stars:  127\n",
      "1 stars:  145\n",
      "B000084T18\n",
      "5 stars:  196\n",
      "1 stars:  75\n",
      "B00006690F\n",
      "5 stars:  165\n",
      "1 stars:  39\n",
      "B00004T9UF\n",
      "5 stars:  182\n",
      "1 stars:  20\n",
      "B00005YW4H\n",
      "5 stars:  159\n",
      "1 stars:  31\n",
      "B0006ZQ9BS\n",
      "5 stars:  154\n",
      "1 stars:  31\n",
      "B0000AGWFX\n",
      "5 stars:  154\n",
      "1 stars:  27\n",
      "B00005O54Q\n",
      "5 stars:  156\n",
      "1 stars:  13\n",
      "B00000163G\n",
      "5 stars:  161\n",
      "1 stars:  5\n",
      "B00065XJ52\n",
      "5 stars:  96\n",
      "1 stars:  63\n"
     ]
    }
   ],
   "source": [
    "freq = {}\n",
    "for item in items:\n",
    "    if (item in freq):\n",
    "        freq[item] += 1\n",
    "    else:\n",
    "        freq[item] = 1\n",
    "\n",
    "freq_s = OrderedDict(sorted(freq.items(), key=itemgetter(1), reverse=True))\n",
    "\n",
    "count = 0\n",
    "for key, value in freq_s.items():\n",
    "    # print(\"% s : % d\" % (key, value))\n",
    "    #print(\"%s : %s\" % (key, productMap[key]))\n",
    "    print(key)\n",
    "    print(\"5 stars: \", fiveStar[key])\n",
    "    print(\"1 stars: \", oneStar[key])\n",
    "    count += 1\n",
    "    if count == 10: break\n"
   ]
  }
 ],
 "metadata": {
  "kernelspec": {
   "display_name": "Python 3",
   "language": "python",
   "name": "python3"
  },
  "language_info": {
   "codemirror_mode": {
    "name": "ipython",
    "version": 3
   },
   "file_extension": ".py",
   "mimetype": "text/x-python",
   "name": "python",
   "nbconvert_exporter": "python",
   "pygments_lexer": "ipython3",
   "version": "3.7.1"
  }
 },
 "nbformat": 4,
 "nbformat_minor": 2
}
