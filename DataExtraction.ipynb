{
 "cells": [
  {
   "cell_type": "code",
   "execution_count": 12,
   "metadata": {},
   "outputs": [],
   "source": [
    "import numpy as np\n",
    "from collections import OrderedDict\n",
    "from operator import itemgetter\n",
    "import json"
   ]
  },
  {
   "cell_type": "code",
   "execution_count": 13,
   "metadata": {},
   "outputs": [],
   "source": [
    "productMap = {}\n",
    "fiveStar = {}\n",
    "oneStar = {}\n",
    "file = open(\"json/Digital_Music_5.json\", \"r\", encoding=\"utf8\")"
   ]
  },
  {
   "cell_type": "code",
   "execution_count": 14,
   "metadata": {},
   "outputs": [],
   "source": [
    "items = []\n",
    "for x in file:\n",
    "    line_dict = json.loads(x)\n",
    "    #items.append(line_dict['asin'])\n",
    "    items.append(line_dict['asin'])\n",
    "    if int(line_dict['overall']) >= 3:\n",
    "        if (line_dict['asin'] in fiveStar):\n",
    "            fiveStar[line_dict['asin']] += 1\n",
    "        else:\n",
    "            fiveStar[line_dict['asin']] = 1\n",
    "\n",
    "    else:\n",
    "        if (line_dict['asin'] in oneStar):\n",
    "            oneStar[line_dict['asin']] += 1\n",
    "        else:\n",
    "            oneStar[line_dict['asin']] = 1"
   ]
  },
  {
   "cell_type": "code",
   "execution_count": 15,
   "metadata": {},
   "outputs": [
    {
     "name": "stdout",
     "output_type": "stream",
     "text": [
      "Unique products in the file are : 3568\n"
     ]
    }
   ],
   "source": [
    "items_unq = np.array(items)\n",
    "print(\"Unique products in the file are :\",np.unique(items_unq).size)"
   ]
  },
  {
   "cell_type": "code",
   "execution_count": 16,
   "metadata": {},
   "outputs": [
    {
     "name": "stdout",
     "output_type": "stream",
     "text": [
      "Products = ['http://www.amazon.com/dp/B0007NFL18', 'http://www.amazon.com/dp/B000084T18', 'http://www.amazon.com/dp/B00006690F', 'http://www.amazon.com/dp/B00004T9UF', 'http://www.amazon.com/dp/B00005YW4H', 'http://www.amazon.com/dp/B0006ZQ9BS', 'http://www.amazon.com/dp/B0000AGWFX', 'http://www.amazon.com/dp/B00005O54Q', 'http://www.amazon.com/dp/B00000163G', 'http://www.amazon.com/dp/B00065XJ52'] \n",
      "\n",
      "FiveStars = [127, 196, 165, 182, 159, 154, 154, 156, 161, 96] \n",
      "\n",
      "OneStar = [145, 75, 39, 20, 31, 31, 27, 13, 5, 63] \n",
      "\n",
      "Img = ['http://images.amazon.com/images/P/B0007NFL18.01._PE30_PI_SCLZZZZZZZ_.jpg', 'http://images.amazon.com/images/P/B000084T18.01._PE30_PI_SCLZZZZZZZ_.jpg', 'http://images.amazon.com/images/P/B00006690F.01._PE30_PI_SCLZZZZZZZ_.jpg', 'http://images.amazon.com/images/P/B00004T9UF.01._PE30_PI_SCLZZZZZZZ_.jpg', 'http://images.amazon.com/images/P/B00005YW4H.01._PE30_PI_SCLZZZZZZZ_.jpg', 'http://images.amazon.com/images/P/B0006ZQ9BS.01._PE30_PI_SCLZZZZZZZ_.jpg', 'http://images.amazon.com/images/P/B0000AGWFX.01._PE30_PI_SCLZZZZZZZ_.jpg', 'http://images.amazon.com/images/P/B00005O54Q.01._PE30_PI_SCLZZZZZZZ_.jpg', 'http://images.amazon.com/images/P/B00000163G.01._PE30_PI_SCLZZZZZZZ_.jpg', 'http://images.amazon.com/images/P/B00065XJ52.01._PE30_PI_SCLZZZZZZZ_.jpg'] \n",
      "\n"
     ]
    }
   ],
   "source": [
    "freq = {}\n",
    "for item in items:\n",
    "    if (item in freq):\n",
    "        freq[item] += 1\n",
    "    else:\n",
    "        freq[item] = 1\n",
    "        \n",
    "freq_s = OrderedDict(sorted(freq.items(), key=itemgetter(1), reverse=True))\n",
    "count = 0\n",
    "products = []\n",
    "fs = []\n",
    "os = []\n",
    "img =[]\n",
    "for key, value in freq_s.items():\n",
    "    # print(\"% s : % d\" % (key, value))\n",
    "    #print(\"%s : %s\" % (key, productMap[key]))\n",
    "    #print(key)\n",
    "    product_url = \"http://www.amazon.com/dp/\"+key\n",
    "    products.append(product_url)\n",
    "    img_url = \"http://images.amazon.com/images/P/\"+key+\".01._PE30_PI_SCLZZZZZZZ_.jpg\"\n",
    "    img.append(img_url)\n",
    "\n",
    "    fs.append(fiveStar[key])\n",
    "    os.append(oneStar[key])\n",
    "    #print(\"5 stars: \", fiveStar[key])\n",
    "    #print(\"1 stars: \", oneStar[key])\n",
    "    count += 1\n",
    "    if count == 10: break\n",
    "\n",
    "\n",
    "print(\"Products =\",products,\"\\n\")\n",
    "print(\"FiveStars =\",fs,\"\\n\")\n",
    "print(\"OneStar =\",os,\"\\n\")\n",
    "print(\"Img =\",img,\"\\n\")"
   ]
  }
 ],
 "metadata": {
  "kernelspec": {
   "display_name": "Python 3",
   "language": "python",
   "name": "python3"
  },
  "language_info": {
   "codemirror_mode": {
    "name": "ipython",
    "version": 3
   },
   "file_extension": ".py",
   "mimetype": "text/x-python",
   "name": "python",
   "nbconvert_exporter": "python",
   "pygments_lexer": "ipython3",
   "version": "3.7.1"
  }
 },
 "nbformat": 4,
 "nbformat_minor": 2
}
