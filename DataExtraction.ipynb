{
 "cells": [
  {
   "cell_type": "code",
   "execution_count": 12,
   "metadata": {},
   "outputs": [],
   "source": [
    "import numpy as np\n",
    "from collections import OrderedDict\n",
    "from operator import itemgetter\n",
    "import json"
   ]
  },
  {
   "cell_type": "code",
   "execution_count": 13,
   "metadata": {},
   "outputs": [],
   "source": [
    "productMap = {}\n",
    "fiveStar = {}\n",
    "oneStar = {}\n",
    "f_name = \"music\"\n",
    "file = open(\"../json/\"+f_name+\".json\", \"r\", encoding=\"utf8\")"
   ]
  },
  {
   "cell_type": "code",
   "execution_count": 14,
   "metadata": {},
   "outputs": [
    {
     "name": "stdout",
     "output_type": "stream",
     "text": [
      "{ \"music\" : [\n",
      "{\"product\": \"http://www.amazon.com/dp/B0007NFL18\" , \"fiveStar\" : 127 , \"oneStar\" : 145 , \"img_url\" : \"http://images.amazon.com/images/P/B0007NFL18.01._PE30_PI_SCLZZZZZZZ_.jpg\" },\n",
      "{\"product\": \"http://www.amazon.com/dp/B000084T18\" , \"fiveStar\" : 196 , \"oneStar\" : 75 , \"img_url\" : \"http://images.amazon.com/images/P/B000084T18.01._PE30_PI_SCLZZZZZZZ_.jpg\" },\n",
      "{\"product\": \"http://www.amazon.com/dp/B00006690F\" , \"fiveStar\" : 165 , \"oneStar\" : 39 , \"img_url\" : \"http://images.amazon.com/images/P/B00006690F.01._PE30_PI_SCLZZZZZZZ_.jpg\" },\n",
      "{\"product\": \"http://www.amazon.com/dp/B00004T9UF\" , \"fiveStar\" : 182 , \"oneStar\" : 20 , \"img_url\" : \"http://images.amazon.com/images/P/B00004T9UF.01._PE30_PI_SCLZZZZZZZ_.jpg\" },\n",
      "{\"product\": \"http://www.amazon.com/dp/B00005YW4H\" , \"fiveStar\" : 159 , \"oneStar\" : 31 , \"img_url\" : \"http://images.amazon.com/images/P/B00005YW4H.01._PE30_PI_SCLZZZZZZZ_.jpg\" },\n",
      "{\"product\": \"http://www.amazon.com/dp/B0006ZQ9BS\" , \"fiveStar\" : 154 , \"oneStar\" : 31 , \"img_url\" : \"http://images.amazon.com/images/P/B0006ZQ9BS.01._PE30_PI_SCLZZZZZZZ_.jpg\" },\n",
      "{\"product\": \"http://www.amazon.com/dp/B0000AGWFX\" , \"fiveStar\" : 154 , \"oneStar\" : 27 , \"img_url\" : \"http://images.amazon.com/images/P/B0000AGWFX.01._PE30_PI_SCLZZZZZZZ_.jpg\" },\n",
      "{\"product\": \"http://www.amazon.com/dp/B00005O54Q\" , \"fiveStar\" : 156 , \"oneStar\" : 13 , \"img_url\" : \"http://images.amazon.com/images/P/B00005O54Q.01._PE30_PI_SCLZZZZZZZ_.jpg\" },\n",
      "{\"product\": \"http://www.amazon.com/dp/B00000163G\" , \"fiveStar\" : 161 , \"oneStar\" : 5 , \"img_url\" : \"http://images.amazon.com/images/P/B00000163G.01._PE30_PI_SCLZZZZZZZ_.jpg\" },\n",
      "{\"product\": \"http://www.amazon.com/dp/B00065XJ52\" , \"fiveStar\" : 96 , \"oneStar\" : 63 , \"img_url\" : \"http://images.amazon.com/images/P/B00065XJ52.01._PE30_PI_SCLZZZZZZZ_.jpg\" }\n",
      "]}\n"
     ]
    }
   ],
   "source": [
    "items = []\n",
    "for x in file:\n",
    "    #a = x.split('\\t')\n",
    "    line_dict = json.loads(x)\n",
    "    # a[3] == Pid\n",
    "    items.append(line_dict['asin'])\n",
    "    # a[5] == Pname a[7] == rating\n",
    "    #productMap[a[3]] = a[5]\n",
    "    #if a[7] == 'star_rating': continue\n",
    "    if int(line_dict['overall']) >= 3:\n",
    "        if (line_dict['asin'] in fiveStar):\n",
    "            fiveStar[line_dict['asin']] += 1\n",
    "        else:\n",
    "            fiveStar[line_dict['asin']] = 1\n",
    "\n",
    "    else:\n",
    "        if (line_dict['asin'] in oneStar):\n",
    "            oneStar[line_dict['asin']] += 1\n",
    "        else:\n",
    "            oneStar[line_dict['asin']] = 1\n",
    "\n",
    "items_unq = np.array(items)\n",
    "#print(\"Unique products in the file are :\",np.unique(items_unq).size)\n",
    "\n",
    "freq = {}\n",
    "for item in items:\n",
    "    if (item in freq):\n",
    "        freq[item] += 1\n",
    "    else:\n",
    "        freq[item] = 1\n",
    "\n",
    "freq_s = OrderedDict(sorted(freq.items(), key=itemgetter(1), reverse=True))\n",
    "\n",
    "count = 0\n",
    "json = []\n",
    "products = []\n",
    "fs = []\n",
    "os = []\n",
    "img =[]\n",
    "\n",
    "print(\"{ \\\"\"+f_name+ \"\\\" : [\")\n",
    "\n",
    "for key, value in freq_s.items():\n",
    "\n",
    "    # print(\"% s : % d\" % (key, value))\n",
    "    #print(\"%s : %s\" % (key, productMap[key]))\n",
    "    #print(key)\n",
    "    product_url = \"http://www.amazon.com/dp/\"+key\n",
    "    products.append(product_url)\n",
    "    img_url = \"http://images.amazon.com/images/P/\"+key+\".01._PE30_PI_SCLZZZZZZZ_.jpg\"\n",
    "    img.append(img_url)\n",
    "\n",
    "    fs.append(fiveStar[key])\n",
    "    os.append(oneStar[key])\n",
    "    #print(\"5 stars: \", fiveStar[key])\n",
    "    #print(\"1 stars: \", oneStar[key])\n",
    "\n",
    "\n",
    "    count += 1\n",
    "    if count != 10:\n",
    "        print(\n",
    "            \"{\\\"product\\\": \\\"\" + product_url + \"\\\" , \\\"fiveStar\\\" : \" + str(fiveStar[key]) + \" , \\\"oneStar\\\" : \" + str(\n",
    "                oneStar[key]) + \" , \\\"img_url\\\" : \\\"\" + img_url + \"\\\" },\")\n",
    "    elif count == 10 :\n",
    "        print(\n",
    "            \"{\\\"product\\\": \\\"\" + product_url + \"\\\" , \\\"fiveStar\\\" : \" + str(fiveStar[key]) + \" , \\\"oneStar\\\" : \" + str(\n",
    "                oneStar[key]) + \" , \\\"img_url\\\" : \\\"\" + img_url + \"\\\" }\")\n",
    "        break\n",
    "\n",
    "print (\"]}\")\n",
    "\n"
   ]
  }
 ],
 "metadata": {
  "kernelspec": {
   "display_name": "Python 3",
   "language": "python",
   "name": "python3"
  },
  "language_info": {
   "codemirror_mode": {
    "name": "ipython",
    "version": 3
   },
   "file_extension": ".py",
   "mimetype": "text/x-python",
   "name": "python",
   "nbconvert_exporter": "python",
   "pygments_lexer": "ipython3",
   "version": "3.7.1"
  }
 },
 "nbformat": 4,
 "nbformat_minor": 2
}
