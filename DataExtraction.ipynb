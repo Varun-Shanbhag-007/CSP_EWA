{
 "cells": [
  {
   "cell_type": "code",
   "execution_count": 2,
   "metadata": {},
   "outputs": [],
   "source": [
    "import numpy as np\n",
    "from collections import OrderedDict\n",
    "from operator import itemgetter\n",
    "import json"
   ]
  },
  {
   "cell_type": "code",
   "execution_count": 3,
   "metadata": {},
   "outputs": [],
   "source": [
    "productMap = {}\n",
    "fiveStar = {}\n",
    "oneStar = {}\n",
    "file = open(\"json/Digital_Music_5.json\", \"r\", encoding=\"utf8\")"
   ]
  },
  {
   "cell_type": "code",
   "execution_count": 4,
   "metadata": {},
   "outputs": [],
   "source": [
    "items = []\n",
    "for x in file:\n",
    "    line_dict = json.loads(x)\n",
    "    #items.append(line_dict['asin'])\n",
    "    items.append(line_dict['asin'])\n",
    "    if int(line_dict['overall']) >= 3:\n",
    "        if (line_dict['asin'] in fiveStar):\n",
    "            fiveStar[line_dict['asin']] += 1\n",
    "        else:\n",
    "            fiveStar[line_dict['asin']] = 1\n",
    "\n",
    "    else:\n",
    "        if (line_dict['asin'] in oneStar):\n",
    "            oneStar[line_dict['asin']] += 1\n",
    "        else:\n",
    "            oneStar[line_dict['asin']] = 1"
   ]
  },
  {
   "cell_type": "code",
   "execution_count": 5,
   "metadata": {},
   "outputs": [
    {
     "name": "stdout",
     "output_type": "stream",
     "text": [
      "Unique products in the file are : 3568\n"
     ]
    }
   ],
   "source": [
    "items_unq = np.array(items)\n",
    "print(\"Unique products in the file are :\",np.unique(items_unq).size)"
   ]
  },
  {
   "cell_type": "code",
   "execution_count": 7,
   "metadata": {},
   "outputs": [
    {
     "ename": "NameError",
     "evalue": "name 'freq_s' is not defined",
     "output_type": "error",
     "traceback": [
      "\u001b[1;31m---------------------------------------------------------------------------\u001b[0m",
      "\u001b[1;31mNameError\u001b[0m                                 Traceback (most recent call last)",
      "\u001b[1;32m<ipython-input-7-ddd662f58599>\u001b[0m in \u001b[0;36m<module>\u001b[1;34m\u001b[0m\n\u001b[0;32m      4\u001b[0m \u001b[0mos\u001b[0m \u001b[1;33m=\u001b[0m \u001b[1;33m[\u001b[0m\u001b[1;33m]\u001b[0m\u001b[1;33m\u001b[0m\u001b[1;33m\u001b[0m\u001b[0m\n\u001b[0;32m      5\u001b[0m \u001b[0mimg\u001b[0m \u001b[1;33m=\u001b[0m\u001b[1;33m[\u001b[0m\u001b[1;33m]\u001b[0m\u001b[1;33m\u001b[0m\u001b[1;33m\u001b[0m\u001b[0m\n\u001b[1;32m----> 6\u001b[1;33m \u001b[1;32mfor\u001b[0m \u001b[0mkey\u001b[0m\u001b[1;33m,\u001b[0m \u001b[0mvalue\u001b[0m \u001b[1;32min\u001b[0m \u001b[0mfreq_s\u001b[0m\u001b[1;33m.\u001b[0m\u001b[0mitems\u001b[0m\u001b[1;33m(\u001b[0m\u001b[1;33m)\u001b[0m\u001b[1;33m:\u001b[0m\u001b[1;33m\u001b[0m\u001b[1;33m\u001b[0m\u001b[0m\n\u001b[0m\u001b[0;32m      7\u001b[0m     \u001b[1;31m# print(\"% s : % d\" % (key, value))\u001b[0m\u001b[1;33m\u001b[0m\u001b[1;33m\u001b[0m\u001b[1;33m\u001b[0m\u001b[0m\n\u001b[0;32m      8\u001b[0m     \u001b[1;31m#print(\"%s : %s\" % (key, productMap[key]))\u001b[0m\u001b[1;33m\u001b[0m\u001b[1;33m\u001b[0m\u001b[1;33m\u001b[0m\u001b[0m\n",
      "\u001b[1;31mNameError\u001b[0m: name 'freq_s' is not defined"
     ]
    }
   ],
   "source": [
    "count = 0\n",
    "products = []\n",
    "fs = []\n",
    "os = []\n",
    "img =[]\n",
    "for key, value in freq_s.items():\n",
    "    # print(\"% s : % d\" % (key, value))\n",
    "    #print(\"%s : %s\" % (key, productMap[key]))\n",
    "    #print(key)\n",
    "    product_url = \"http://www.amazon.com/dp/\"+key\n",
    "    products.append(product_url)\n",
    "    img_url = \"http://images.amazon.com/images/P/\"+key+\".01._PE30_PI_SCLZZZZZZZ_.jpg\"\n",
    "    img.append(img_url)\n",
    "\n",
    "    fs.append(fiveStar[key])\n",
    "    os.append(oneStar[key])\n",
    "    #print(\"5 stars: \", fiveStar[key])\n",
    "    #print(\"1 stars: \", oneStar[key])\n",
    "    count += 1\n",
    "    if count == 10: break\n",
    "\n",
    "\n",
    "print(\"Products =\",products)\n",
    "print(\"FiveStars =\",fs)\n",
    "print(\"OneStar =\",os)\n",
    "print(\"Img =\",img)"
   ]
  }
 ],
 "metadata": {
  "kernelspec": {
   "display_name": "Python 3",
   "language": "python",
   "name": "python3"
  },
  "language_info": {
   "codemirror_mode": {
    "name": "ipython",
    "version": 3
   },
   "file_extension": ".py",
   "mimetype": "text/x-python",
   "name": "python",
   "nbconvert_exporter": "python",
   "pygments_lexer": "ipython3",
   "version": "3.7.1"
  }
 },
 "nbformat": 4,
 "nbformat_minor": 2
}
